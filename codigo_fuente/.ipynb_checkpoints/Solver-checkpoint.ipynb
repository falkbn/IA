{
 "cells": [
  {
   "cell_type": "code",
   "execution_count": 5,
   "metadata": {},
   "outputs": [],
   "source": [
    "import búsqueda_espacio_estados as bee\n",
    "import problema_espacio_estados as pee"
   ]
  },
  {
   "cell_type": "code",
   "execution_count": 14,
   "metadata": {},
   "outputs": [
    {
     "name": "stdout",
     "output_type": "stream",
     "text": [
      "Acción: tachar_casilla\n",
      "Acción: marcar_casilla\n"
     ]
    }
   ],
   "source": [
    "tachar_casilla = pee.Acción(nombre='tachar_casilla',\n",
    "                           aplicabilidad={'casilla_no_tachada', 'casilla_no_marcada'},\n",
    "                           aplicación='casilla_tachada',\n",
    "                           coste=1)\n",
    "print(tachar_casilla)\n",
    "\n",
    "marcar_casilla = pee.Acción(nombre='marcar_casilla',\n",
    "                           aplicabilidad={'casilla_no_tachada', 'casilla_no_marcada'},\n",
    "                           aplicación='casilla_marcada',\n",
    "                           coste=1)\n",
    "print(marcar_casilla)\n",
    "\n",
    "acciones = {tachar_casilla, marcar_casilla}"
   ]
  },
  {
   "cell_type": "code",
   "execution_count": 16,
   "metadata": {},
   "outputs": [
    {
     "ename": "TypeError",
     "evalue": "__init__() got an unexpected keyword argument 'estado_incial'",
     "output_type": "error",
     "traceback": [
      "\u001b[1;31m---------------------------------------------------------------------------\u001b[0m",
      "\u001b[1;31mTypeError\u001b[0m                                 Traceback (most recent call last)",
      "\u001b[1;32m<ipython-input-16-2853996c28d5>\u001b[0m in \u001b[0;36m<module>\u001b[1;34m\u001b[0m\n\u001b[0;32m      1\u001b[0m problema_hitori = pee.ProblemaEspacioEstados(acciones,\n\u001b[0;32m      2\u001b[0m                                              \u001b[0mestado_incial\u001b[0m\u001b[1;33m=\u001b[0m\u001b[1;34m'con_valores_repetidos'\u001b[0m\u001b[1;33m,\u001b[0m\u001b[1;33m\u001b[0m\u001b[1;33m\u001b[0m\u001b[0m\n\u001b[1;32m----> 3\u001b[1;33m                                              estados_finales='sin_valores_repetidos')\n\u001b[0m\u001b[0;32m      4\u001b[0m \u001b[1;33m\u001b[0m\u001b[0m\n",
      "\u001b[1;31mTypeError\u001b[0m: __init__() got an unexpected keyword argument 'estado_incial'"
     ]
    }
   ],
   "source": [
    "problema_hitori = pee.ProblemaEspacioEstados(acciones,\n",
    "                                             estado_inicial='con_valores_repetidos',\n",
    "                                             estados_finales='sin_valores_repetidos')\n",
    "                                            "
   ]
  },
  {
   "cell_type": "code",
   "execution_count": null,
   "metadata": {},
   "outputs": [],
   "source": []
  },
  {
   "cell_type": "code",
   "execution_count": null,
   "metadata": {},
   "outputs": [],
   "source": []
  }
 ],
 "metadata": {
  "kernelspec": {
   "display_name": "Python 3",
   "language": "python",
   "name": "python3"
  },
  "language_info": {
   "codemirror_mode": {
    "name": "ipython",
    "version": 3
   },
   "file_extension": ".py",
   "mimetype": "text/x-python",
   "name": "python",
   "nbconvert_exporter": "python",
   "pygments_lexer": "ipython3",
   "version": "3.7.1"
  }
 },
 "nbformat": 4,
 "nbformat_minor": 2
}
